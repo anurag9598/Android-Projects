{
  "nbformat": 4,
  "nbformat_minor": 0,
  "metadata": {
    "accelerator": "GPU",
    "colab": {
      "name": "PROJECT WORK.ipynb",
      "provenance": [],
      "include_colab_link": true
    },
    "kernelspec": {
      "display_name": "Python 3",
      "name": "python3"
    }
  },
  "cells": [
    {
      "cell_type": "markdown",
      "metadata": {
        "id": "view-in-github",
        "colab_type": "text"
      },
      "source": [
        "<a href=\"https://colab.research.google.com/github/anurag9598/Android-Projects/blob/master/PROJECT_WORK.ipynb\" target=\"_parent\"><img src=\"https://colab.research.google.com/assets/colab-badge.svg\" alt=\"Open In Colab\"/></a>"
      ]
    },
    {
      "cell_type": "markdown",
      "metadata": {
        "id": "9OdF-wS_lTRy"
      },
      "source": [
        "# ***Importing*** ***Essential*** ***Libraries***"
      ]
    },
    {
      "cell_type": "code",
      "metadata": {
        "id": "XrPXfnTFlYsZ"
      },
      "source": [
        "import os\r\n",
        "%matplotlib inline\r\n",
        "import matplotlib.pyplot as plt\r\n",
        "import numpy as np\r\n",
        "import pandas as pd\r\n",
        "import os\r\n",
        "from glob import glob\r\n",
        "import seaborn as sns\r\n",
        "from PIL import Image\r\n",
        "np.random.seed(11) \r\n",
        "from sklearn.preprocessing import StandardScaler \r\n",
        "from sklearn.model_selection import train_test_split, KFold, cross_val_score, GridSearchCV\r\n",
        "from sklearn.metrics import accuracy_score\r\n",
        "import itertools"
      ],
      "execution_count": 1,
      "outputs": []
    },
    {
      "cell_type": "code",
      "metadata": {
        "id": "nOMyYbcs-Cbc"
      },
      "source": [
        "\r\n",
        "import json\r\n",
        "import math\r\n",
        "import os\r\n",
        "import cv2\r\n",
        "from PIL import Image\r\n",
        "import numpy as np\r\n",
        "from keras import layers\r\n",
        "from keras.applications import ResNet50,MobileNet, DenseNet201, InceptionV3, NASNetLarge, InceptionResNetV2, NASNetMobile\r\n",
        "from keras.callbacks import Callback, ModelCheckpoint, ReduceLROnPlateau, TensorBoard\r\n",
        "from keras.preprocessing.image import ImageDataGenerator\r\n",
        "from keras.utils.np_utils import to_categorical\r\n",
        "from keras.models import Sequential\r\n",
        "from keras.optimizers import Adam\r\n",
        "import matplotlib.pyplot as plt\r\n",
        "import pandas as pd\r\n",
        "from sklearn.model_selection import train_test_split\r\n",
        "from sklearn.metrics import cohen_kappa_score, accuracy_score\r\n",
        "import scipy\r\n",
        "from tqdm import tqdm\r\n",
        "import tensorflow as tf\r\n",
        "from keras import backend as K\r\n",
        "import gc\r\n",
        "from functools import partial\r\n",
        "from sklearn import metrics\r\n",
        "from collections import Counter\r\n",
        "import json\r\n",
        "import itertools\r\n",
        "%matplotlib inline"
      ],
      "execution_count": 2,
      "outputs": []
    },
    {
      "cell_type": "code",
      "metadata": {
        "id": "2VVTzD3VleKs"
      },
      "source": [
        "import keras\r\n",
        "from keras.utils.np_utils import to_categorical # used for converting labels to one-hot-encoding\r\n",
        "from keras.models import Sequential, Model\r\n",
        "from keras.layers import Dense, Dropout, Flatten, Conv2D, MaxPool2D\r\n",
        "import keras.applications.resnet\r\n",
        "from keras import backend as K\r\n",
        "import tensorflow as tf\r\n",
        "from keras.layers.normalization import BatchNormalization\r\n",
        "from keras.utils.np_utils import to_categorical # convert to one-hot-encoding\r\n",
        "from keras.optimizers import Adam, RMSprop\r\n",
        "from keras.preprocessing.image import ImageDataGenerator\r\n",
        "from keras.callbacks import ReduceLROnPlateau\r\n",
        "from keras.wrappers.scikit_learn import KerasClassifier\r\n",
        "from keras.applications.resnet50 import ResNet50\r\n",
        "from keras import backend as K\r\n",
        "import gc"
      ],
      "execution_count": 3,
      "outputs": []
    },
    {
      "cell_type": "markdown",
      "metadata": {
        "id": "cvXaoK5xlo3y"
      },
      "source": [
        "# ***Loading*** ***Dataset***"
      ]
    },
    {
      "cell_type": "code",
      "metadata": {
        "colab": {
          "base_uri": "https://localhost:8080/",
          "height": 367
        },
        "id": "UyeqrwrHleNW",
        "outputId": "b2d00d2f-0b03-4425-d1e7-6f9195f10f4b"
      },
      "source": [
        "import zipfile\r\n",
        "from google.colab import drive\r\n",
        "\r\n",
        "drive.mount('/content/drive/')\r\n",
        "\r\n",
        "#LODING THE DATA FOLDER IN READ MODE\r\n",
        "\r\n",
        "zip_ref = zipfile.ZipFile(\"/content/drive/MyDrive/CANCER DATASET.zip\", 'r')\r\n",
        "zip_ref.extractall(\"/CANCER DATASET\")\r\n",
        "##zip_ref.close()"
      ],
      "execution_count": 4,
      "outputs": [
        {
          "output_type": "stream",
          "text": [
            "Mounted at /content/drive/\n"
          ],
          "name": "stdout"
        },
        {
          "output_type": "error",
          "ename": "FileNotFoundError",
          "evalue": "ignored",
          "traceback": [
            "\u001b[0;31m---------------------------------------------------------------------------\u001b[0m",
            "\u001b[0;31mFileNotFoundError\u001b[0m                         Traceback (most recent call last)",
            "\u001b[0;32m<ipython-input-4-63f074403177>\u001b[0m in \u001b[0;36m<module>\u001b[0;34m()\u001b[0m\n\u001b[1;32m      6\u001b[0m \u001b[0;31m#LODING THE DATA FOLDER IN READ MODE\u001b[0m\u001b[0;34m\u001b[0m\u001b[0;34m\u001b[0m\u001b[0;34m\u001b[0m\u001b[0m\n\u001b[1;32m      7\u001b[0m \u001b[0;34m\u001b[0m\u001b[0m\n\u001b[0;32m----> 8\u001b[0;31m \u001b[0mzip_ref\u001b[0m \u001b[0;34m=\u001b[0m \u001b[0mzipfile\u001b[0m\u001b[0;34m.\u001b[0m\u001b[0mZipFile\u001b[0m\u001b[0;34m(\u001b[0m\u001b[0;34m\"/content/drive/MyDrive/CANCER DATASET.zip\"\u001b[0m\u001b[0;34m,\u001b[0m \u001b[0;34m'r'\u001b[0m\u001b[0;34m)\u001b[0m\u001b[0;34m\u001b[0m\u001b[0;34m\u001b[0m\u001b[0m\n\u001b[0m\u001b[1;32m      9\u001b[0m \u001b[0mzip_ref\u001b[0m\u001b[0;34m.\u001b[0m\u001b[0mextractall\u001b[0m\u001b[0;34m(\u001b[0m\u001b[0;34m\"/CANCER DATASET\"\u001b[0m\u001b[0;34m)\u001b[0m\u001b[0;34m\u001b[0m\u001b[0;34m\u001b[0m\u001b[0m\n\u001b[1;32m     10\u001b[0m \u001b[0;31m##zip_ref.close()\u001b[0m\u001b[0;34m\u001b[0m\u001b[0;34m\u001b[0m\u001b[0;34m\u001b[0m\u001b[0m\n",
            "\u001b[0;32m/usr/lib/python3.6/zipfile.py\u001b[0m in \u001b[0;36m__init__\u001b[0;34m(self, file, mode, compression, allowZip64)\u001b[0m\n\u001b[1;32m   1111\u001b[0m             \u001b[0;32mwhile\u001b[0m \u001b[0;32mTrue\u001b[0m\u001b[0;34m:\u001b[0m\u001b[0;34m\u001b[0m\u001b[0;34m\u001b[0m\u001b[0m\n\u001b[1;32m   1112\u001b[0m                 \u001b[0;32mtry\u001b[0m\u001b[0;34m:\u001b[0m\u001b[0;34m\u001b[0m\u001b[0;34m\u001b[0m\u001b[0m\n\u001b[0;32m-> 1113\u001b[0;31m                     \u001b[0mself\u001b[0m\u001b[0;34m.\u001b[0m\u001b[0mfp\u001b[0m \u001b[0;34m=\u001b[0m \u001b[0mio\u001b[0m\u001b[0;34m.\u001b[0m\u001b[0mopen\u001b[0m\u001b[0;34m(\u001b[0m\u001b[0mfile\u001b[0m\u001b[0;34m,\u001b[0m \u001b[0mfilemode\u001b[0m\u001b[0;34m)\u001b[0m\u001b[0;34m\u001b[0m\u001b[0;34m\u001b[0m\u001b[0m\n\u001b[0m\u001b[1;32m   1114\u001b[0m                 \u001b[0;32mexcept\u001b[0m \u001b[0mOSError\u001b[0m\u001b[0;34m:\u001b[0m\u001b[0;34m\u001b[0m\u001b[0;34m\u001b[0m\u001b[0m\n\u001b[1;32m   1115\u001b[0m                     \u001b[0;32mif\u001b[0m \u001b[0mfilemode\u001b[0m \u001b[0;32min\u001b[0m \u001b[0mmodeDict\u001b[0m\u001b[0;34m:\u001b[0m\u001b[0;34m\u001b[0m\u001b[0;34m\u001b[0m\u001b[0m\n",
            "\u001b[0;31mFileNotFoundError\u001b[0m: [Errno 2] No such file or directory: '/content/drive/MyDrive/CANCER DATASET.zip'"
          ]
        }
      ]
    },
    {
      "cell_type": "code",
      "metadata": {
        "id": "dGNxB9r3leQJ"
      },
      "source": [
        "folder_benign_train = '/CANCER DATASET/data/train/benign'\r\n",
        "folder_malignant_train = '/CANCER DATASET/data/train/malignant'\r\n",
        "\r\n",
        "folder_benign_test = '/CANCER DATASET/data/test/benign'\r\n",
        "folder_malignant_test = '/CANCER DATASET/data/test/malignant'\r\n",
        "read = lambda imname: np.asarray(Image.open(imname).convert(\"RGB\"))\r\n",
        "\r\n",
        "\r\n"
      ],
      "execution_count": null,
      "outputs": []
    },
    {
      "cell_type": "markdown",
      "metadata": {
        "id": "Q2iSqCRr0vTG"
      },
      "source": [
        "# ***LOADING TRAIN TEST DATA***\r\n",
        "\r\n",
        "#In this step I load in the pictures and turn them into numpy arrays using their RGB values. As the pictures have already been resized to 224x224, there's no need to resize them."
      ]
    },
    {
      "cell_type": "code",
      "metadata": {
        "id": "bBUt2EQX08U1"
      },
      "source": [
        "# Load in training pictures \r\n",
        "ims_benign = [read(os.path.join(folder_benign_train, filename)) for filename in os.listdir(folder_benign_train)]\r\n",
        "X_train_benign = np.array(ims_benign, dtype='uint8')\r\n",
        "ims_malignant = [read(os.path.join(folder_malignant_train, filename)) for filename in os.listdir(folder_malignant_train)]\r\n",
        "X_train_malignant = np.array(ims_malignant, dtype='uint8')\r\n",
        "\r\n",
        "# Load in testing pictures\r\n",
        "ims_benign = [read(os.path.join(folder_benign_test, filename)) for filename in os.listdir(folder_benign_test)]\r\n",
        "X_benign_test = np.array(ims_benign, dtype='uint8')\r\n",
        "ims_malignant = [read(os.path.join(folder_malignant_test, filename)) for filename in os.listdir(folder_malignant_test)]\r\n",
        "X_malignant_test = np.array(ims_malignant, dtype='uint8')\r\n"
      ],
      "execution_count": null,
      "outputs": []
    },
    {
      "cell_type": "markdown",
      "metadata": {
        "id": "inj1uVyZ9n1E"
      },
      "source": [
        "# ***SHOWING TRAINING DATA PIC IN 'UINT8'***"
      ]
    },
    {
      "cell_type": "code",
      "metadata": {
        "id": "fRAZ-8p8lebY"
      },
      "source": [
        "X_train_benign"
      ],
      "execution_count": null,
      "outputs": []
    },
    {
      "cell_type": "code",
      "metadata": {
        "id": "bBHPY5nZled1"
      },
      "source": [
        "X_train_malignant"
      ],
      "execution_count": null,
      "outputs": []
    },
    {
      "cell_type": "markdown",
      "metadata": {
        "id": "GiOBiOU8-vy2"
      },
      "source": [
        "# ***SHOWING TESTING DATA PIC IN 'UINT8'***"
      ]
    },
    {
      "cell_type": "code",
      "metadata": {
        "id": "XmY2FC3Z-mRN"
      },
      "source": [
        "X_benign_test"
      ],
      "execution_count": null,
      "outputs": []
    },
    {
      "cell_type": "code",
      "metadata": {
        "id": "1DWbFH_a-mUj"
      },
      "source": [
        "X_malignant_test"
      ],
      "execution_count": null,
      "outputs": []
    },
    {
      "cell_type": "markdown",
      "metadata": {
        "id": "cEInyT85_5HE"
      },
      "source": [
        "# ***CREATING*** ***LABEL***"
      ]
    },
    {
      "cell_type": "code",
      "metadata": {
        "id": "nWNjAgJi-mXU"
      },
      "source": [
        "y_train_benign = np.zeros(X_train_benign.shape[0])\r\n",
        "y_train_malignant = np.ones(X_train_malignant.shape[0])\r\n",
        "\r\n",
        "y_benign_test = np.zeros(X_benign_test.shape[0])\r\n",
        "y_malignant_test = np.ones(X_malignant_test.shape[0])"
      ],
      "execution_count": null,
      "outputs": []
    },
    {
      "cell_type": "markdown",
      "metadata": {
        "id": "UMdWwN7_BddP"
      },
      "source": [
        "# ***Y TRAIN AND TEST DATA OF (benign malignant) WITH LABELS***"
      ]
    },
    {
      "cell_type": "code",
      "metadata": {
        "id": "WQ1l5wdQ_4KF"
      },
      "source": [
        "y_train_benign"
      ],
      "execution_count": null,
      "outputs": []
    },
    {
      "cell_type": "code",
      "metadata": {
        "id": "o8wmfM-U_4Mx"
      },
      "source": [
        "y_train_malignant"
      ],
      "execution_count": null,
      "outputs": []
    },
    {
      "cell_type": "code",
      "metadata": {
        "id": "pthH6-bs_4PP"
      },
      "source": [
        "y_benign_test "
      ],
      "execution_count": null,
      "outputs": []
    },
    {
      "cell_type": "code",
      "metadata": {
        "id": "OiflFJIU_4Tn"
      },
      "source": [
        "y_malignant_test"
      ],
      "execution_count": null,
      "outputs": []
    },
    {
      "cell_type": "markdown",
      "metadata": {
        "id": "bgKrOHXWCAF9"
      },
      "source": [
        "# ***MERGING  ALL THE TRAIN AND TEST DATA TOGETHER***"
      ]
    },
    {
      "cell_type": "markdown",
      "metadata": {
        "id": "0LWi_ogkCXKE"
      },
      "source": [
        "## *1*. ***TRAIN DATA OF X AND Y*** "
      ]
    },
    {
      "cell_type": "code",
      "metadata": {
        "id": "bKfXWxelB3fn"
      },
      "source": [
        "X_train = np.concatenate((X_train_benign, X_train_malignant), axis = 0)\r\n",
        "Y_train = np.concatenate((y_train_benign, y_train_malignant), axis = 0)"
      ],
      "execution_count": null,
      "outputs": []
    },
    {
      "cell_type": "markdown",
      "metadata": {
        "id": "TNcLOaH_Cnll"
      },
      "source": [
        "## *2*. ***TEST DATA OF X AND Y*** "
      ]
    },
    {
      "cell_type": "code",
      "metadata": {
        "id": "Jz1beJGKB3pq"
      },
      "source": [
        "X_test = np.concatenate((X_benign_test, X_malignant_test), axis = 0)\r\n",
        "Y_test = np.concatenate((y_benign_test, y_malignant_test), axis = 0)"
      ],
      "execution_count": null,
      "outputs": []
    },
    {
      "cell_type": "markdown",
      "metadata": {
        "id": "bYWXrlOTI7Ey"
      },
      "source": [
        "# ***shape of train and test data***"
      ]
    },
    {
      "cell_type": "code",
      "metadata": {
        "id": "RgCb_VWqB3so"
      },
      "source": [
        "print(X_train.shape)\r\n"
      ],
      "execution_count": null,
      "outputs": []
    },
    {
      "cell_type": "code",
      "metadata": {
        "id": "j1QAFfyUIgZF"
      },
      "source": [
        "print(X_test.shape)"
      ],
      "execution_count": null,
      "outputs": []
    },
    {
      "cell_type": "code",
      "metadata": {
        "id": "f9IkNL9iIghF"
      },
      "source": [
        "print(Y_train.shape)"
      ],
      "execution_count": null,
      "outputs": []
    },
    {
      "cell_type": "code",
      "metadata": {
        "id": "jkq5K7uhIgk6"
      },
      "source": [
        "print(Y_test.shape)"
      ],
      "execution_count": null,
      "outputs": []
    },
    {
      "cell_type": "code",
      "metadata": {
        "id": "eSTLiyPtIgs5"
      },
      "source": [
        "X_train"
      ],
      "execution_count": null,
      "outputs": []
    },
    {
      "cell_type": "code",
      "metadata": {
        "id": "K7sxnzKbB3vm"
      },
      "source": [
        "Y_train"
      ],
      "execution_count": null,
      "outputs": []
    },
    {
      "cell_type": "code",
      "metadata": {
        "id": "KqJD20n2B3yd"
      },
      "source": [
        "X_test"
      ],
      "execution_count": null,
      "outputs": []
    },
    {
      "cell_type": "code",
      "metadata": {
        "id": "9FC-WquUB31S"
      },
      "source": [
        "Y_test"
      ],
      "execution_count": null,
      "outputs": []
    },
    {
      "cell_type": "markdown",
      "metadata": {
        "id": "Wq8f6CJf1pNb"
      },
      "source": [
        "# ***Shuffle data***\r\n",
        "#  As the pictures do not have any labels, and we created the label. Finally, the pictures are added together to a big training set and shuffeled."
      ]
    },
    {
      "cell_type": "code",
      "metadata": {
        "id": "Aeznos7h1mrV"
      },
      "source": [
        "s = np.arange(X_train.shape[0])\r\n",
        "np.random.shuffle(s)\r\n",
        "X_train = X_train[s]\r\n",
        "Y_train = Y_train[s]\r\n",
        "\r\n",
        "s = np.arange(X_test.shape[0])\r\n",
        "np.random.shuffle(s)\r\n",
        "X_test = X_test[s]\r\n",
        "Y_test = Y_test[s]"
      ],
      "execution_count": null,
      "outputs": []
    },
    {
      "cell_type": "markdown",
      "metadata": {
        "id": "6f9pYLvHFa-B"
      },
      "source": [
        "# ***some sample of image and its classification***"
      ]
    },
    {
      "cell_type": "code",
      "metadata": {
        "id": "IHVUoqV8FJ82"
      },
      "source": [
        "# Display first 15 images of moles, and how they are classified\r\n",
        "w=60\r\n",
        "h=40\r\n",
        "fig=plt.figure(figsize=(12, 12))\r\n",
        "columns = 3\r\n",
        "rows = 3\r\n",
        "\r\n",
        "for i in range(1, columns*rows +1):\r\n",
        "    ax = fig.add_subplot(rows, columns, i)\r\n",
        "    if Y_train[i] == 0:\r\n",
        "        ax.title.set_text('Benign')\r\n",
        "    else:\r\n",
        "        ax.title.set_text('Malignant')\r\n",
        "    plt.imshow(X_train[i], interpolation='nearest')\r\n",
        "plt.show()"
      ],
      "execution_count": null,
      "outputs": []
    },
    {
      "cell_type": "code",
      "metadata": {
        "id": "3kgMbBLDB33q"
      },
      "source": [
        "# Display first 15 images of moles, and how they are classified\r\n",
        "w=50\r\n",
        "h=50\r\n",
        "fig=plt.figure(figsize=(12, 8))\r\n",
        "columns = 5\r\n",
        "rows = 3\r\n",
        "\r\n",
        "for i in range(1, columns*rows +1):\r\n",
        "    ax = fig.add_subplot(rows, columns, i)\r\n",
        "    if Y_train[i] == 0:\r\n",
        "        ax.title.set_text('Benign')\r\n",
        "    else:\r\n",
        "        ax.title.set_text('Malignant')\r\n",
        "    plt.imshow(X_train[i], interpolation='nearest')\r\n",
        "plt.show()"
      ],
      "execution_count": null,
      "outputs": []
    },
    {
      "cell_type": "markdown",
      "metadata": {
        "id": "JFkozOyWTIqc"
      },
      "source": [
        "\r\n",
        "\r\n",
        "# ***Categorial labels***\r\n",
        "\r\n"
      ]
    },
    {
      "cell_type": "markdown",
      "metadata": {
        "id": "v72p0-PdTik9"
      },
      "source": [
        "***apply one hot encoding on label data***"
      ]
    },
    {
      "cell_type": "code",
      "metadata": {
        "id": "ARBKv03AB36g"
      },
      "source": [
        "Y_train = to_categorical(Y_train, num_classes= 2)\r\n",
        "Y_test = to_categorical(Y_test, num_classes= 2)"
      ],
      "execution_count": null,
      "outputs": []
    },
    {
      "cell_type": "markdown",
      "metadata": {
        "id": "Umi649lrVI1U"
      },
      "source": [
        "# ***Normalization***"
      ]
    },
    {
      "cell_type": "markdown",
      "metadata": {
        "id": "7LKz7MxQTIFM"
      },
      "source": [
        "* Normalize all Values of the pictures by dividing all the RGB values by 255*"
      ]
    },
    {
      "cell_type": "code",
      "metadata": {
        "id": "bcljnoBtB39D"
      },
      "source": [
        "# With data augmentation to prevent overfitting \r\n",
        "X_train = X_train/255.\r\n",
        "X_test = X_test/255"
      ],
      "execution_count": null,
      "outputs": []
    },
    {
      "cell_type": "markdown",
      "metadata": {
        "id": "JhoAzK7m52rz"
      },
      "source": [
        "# **data** *`generator`*(***augomentation***)"
      ]
    },
    {
      "cell_type": "code",
      "metadata": {
        "id": "l4KRHlWM5xO1"
      },
      "source": [
        "\r\n",
        "BATCH_SIZE = 64\r\n",
        "\r\n",
        "train_generator = ImageDataGenerator(\r\n",
        "        zoom_range=2, \r\n",
        "        rotation_range = 90,\r\n",
        "        horizontal_flip=True, \r\n",
        "        vertical_flip=True, \r\n",
        "    )"
      ],
      "execution_count": null,
      "outputs": []
    },
    {
      "cell_type": "markdown",
      "metadata": {
        "id": "UkrjbxyI6QRV"
      },
      "source": [
        "\r\n",
        "# Model: ResNet50"
      ]
    },
    {
      "cell_type": "code",
      "metadata": {
        "id": "QN-YP9Vf3kAN"
      },
      "source": [
        "# See learning curve and validation curve\r\n",
        "\r\n",
        "def build(input_shape= (224,224,3), lr = 1e-3, num_classes= 2,\r\n",
        "          init= 'normal', activ= 'relu', optim= 'adam'):\r\n",
        "    model = Sequential()\r\n",
        "    model.add(Conv2D(64, kernel_size=(3, 3),padding = 'Same',input_shape=input_shape,\r\n",
        "                     activation= activ, kernel_initializer='glorot_uniform'))\r\n",
        "    model.add(MaxPool2D(pool_size = (2, 2)))\r\n",
        "    model.add(Dropout(0.25))\r\n",
        "\r\n",
        "    model.add(Conv2D(64, kernel_size=(3, 3),padding = 'Same', \r\n",
        "                     activation =activ, kernel_initializer = 'glorot_uniform'))\r\n",
        "    model.add(MaxPool2D(pool_size = (2, 2)))\r\n",
        "    model.add(Dropout(0.25))\r\n",
        "\r\n",
        "    model.add(Flatten())\r\n",
        "    model.add(Dense(128, activation='relu', kernel_initializer=init))\r\n",
        "    model.add(Dense(num_classes, activation='softmax'))\r\n",
        "    model.summary()\r\n",
        "\r\n",
        "    if optim == 'rmsprop':\r\n",
        "        optimizer = RMSprop(lr=lr)\r\n",
        "\r\n",
        "    else:\r\n",
        "        optimizer = Adam(lr=lr)\r\n",
        "\r\n",
        "    model.compile(optimizer = optimizer ,loss = \"binary_crossentropy\", metrics=[\"accuracy\"])\r\n",
        "    return model\r\n",
        "\r\n",
        "# Set a learning rate annealer\r\n",
        "learning_rate_reduction = ReduceLROnPlateau(monitor='val_accuracy', \r\n",
        "                                            patience=5, \r\n",
        "                                            verbose=1, \r\n",
        "                                            factor=0.5, \r\n",
        "                                            min_lr=1e-7)"
      ],
      "execution_count": null,
      "outputs": []
    },
    {
      "cell_type": "code",
      "metadata": {
        "id": "eNUsazIw0Sfy"
      },
      "source": [
        "input_shape = (224,224,3)\r\n",
        "lr = 1e-5\r\n",
        "epochs = 50\r\n",
        "batch_size = 64\r\n",
        "\r\n",
        "model = ResNet50(include_top=True,\r\n",
        "                 weights= None,\r\n",
        "                 input_tensor=None,\r\n",
        "                 input_shape=input_shape,\r\n",
        "                 pooling='avg',\r\n",
        "                 classes=2)\r\n",
        "\r\n",
        "model.compile(optimizer = Adam(lr) ,\r\n",
        "              loss = \"binary_crossentropy\", \r\n",
        "              metrics=[\"accuracy\"])\r\n",
        "\r\n",
        "history = model.fit(X_train, Y_train, validation_split=0.2,\r\n",
        "                    epochs= epochs, batch_size= batch_size, verbose=2, \r\n",
        "                    callbacks=[learning_rate_reduction]\r\n",
        "                   )\r\n",
        "\r\n",
        "# list all data in history\r\n",
        "print(history.history.keys())"
      ],
      "execution_count": null,
      "outputs": []
    },
    {
      "cell_type": "code",
      "metadata": {
        "id": "odPXQaijX0xN"
      },
      "source": [
        ""
      ],
      "execution_count": null,
      "outputs": []
    },
    {
      "cell_type": "code",
      "metadata": {
        "id": "YnsLoHmKX0zp"
      },
      "source": [
        ""
      ],
      "execution_count": null,
      "outputs": []
    },
    {
      "cell_type": "code",
      "metadata": {
        "id": "SLy0ABHuX08i"
      },
      "source": [
        ""
      ],
      "execution_count": null,
      "outputs": []
    },
    {
      "cell_type": "code",
      "metadata": {
        "id": "1wKRmN6GX0_K"
      },
      "source": [
        ""
      ],
      "execution_count": null,
      "outputs": []
    },
    {
      "cell_type": "code",
      "metadata": {
        "id": "DOZ7EtnzX1Bt"
      },
      "source": [
        ""
      ],
      "execution_count": null,
      "outputs": []
    },
    {
      "cell_type": "code",
      "metadata": {
        "id": "vbB_mFU3X1EF"
      },
      "source": [
        ""
      ],
      "execution_count": null,
      "outputs": []
    },
    {
      "cell_type": "code",
      "metadata": {
        "id": "VuRDdE8BX1Gp"
      },
      "source": [
        ""
      ],
      "execution_count": null,
      "outputs": []
    },
    {
      "cell_type": "code",
      "metadata": {
        "id": "J3G71AdQX1I6"
      },
      "source": [
        ""
      ],
      "execution_count": null,
      "outputs": []
    },
    {
      "cell_type": "code",
      "metadata": {
        "id": "o2QmT4FIX1Lu"
      },
      "source": [
        ""
      ],
      "execution_count": null,
      "outputs": []
    }
  ]
}